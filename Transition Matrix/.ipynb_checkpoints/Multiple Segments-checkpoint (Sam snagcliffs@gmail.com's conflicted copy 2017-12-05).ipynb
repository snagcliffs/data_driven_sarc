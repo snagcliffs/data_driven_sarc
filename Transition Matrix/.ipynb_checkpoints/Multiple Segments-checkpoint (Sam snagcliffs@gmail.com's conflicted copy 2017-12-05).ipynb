{
 "cells": [
  {
   "cell_type": "code",
   "execution_count": 1,
   "metadata": {},
   "outputs": [
    {
     "name": "stdout",
     "output_type": "stream",
     "text": [
      "Populating the interactive namespace from numpy and matplotlib\n"
     ]
    }
   ],
   "source": [
    "import sys\n",
    "\n",
    "# Correct for use on various computers\n",
    "sys.path.append('/home/samuel/Dropbox (uwamath)/muscle/MuscleModel/multifil/')\n",
    "sys.path.append('/home/samuel/Dropbox (uwamath)/muscle/MuscleModel/Python_Codes')\n",
    "sys.path.append('/Users/samuelrudy/Dropbox (uwamath)/muscle/MuscleModel/Python_Codes')\n",
    "\n",
    "%pylab inline\n",
    "pylab.rcParams['figure.figsize'] = (12, 8)\n",
    "import numpy as np\n",
    "\n",
    "import seaborn\n",
    "from MuscleHelperFunctions import *\n",
    "from multi_sarc import *\n",
    "\n",
    "from sklearn.externals import joblib\n",
    "\n",
    "def normalize_array(x): return (x - np.min(x))/(np.max(x) - np.min(x))"
   ]
  },
  {
   "cell_type": "code",
   "execution_count": 2,
   "metadata": {},
   "outputs": [],
   "source": [
    "if True:\n",
    "    # Use gradient boosted regression trees\n",
    "    axial_predictor_lasso = joblib.load('axial_predictor_12_3_gb.pkl')\n",
    "    radial_predictor_lasso = joblib.load('radial_predictor_12_3_gb.pkl')\n",
    "    trans_prob_predictors_lasso = joblib.load('trans_prob_predictor_12_3.pkl')\n",
    "else:\n",
    "    # Use linear predictor\n",
    "    axial_predictor_lasso = joblib.load('axial_predictor_12_3.pkl')\n",
    "    radial_predictor_lasso = joblib.load('radial_predictor_12_3.pkl')\n",
    "    trans_prob_predictors_lasso = joblib.load('trans_prob_predictor_12_3.pkl')\n",
    "   \n",
    "\n",
    "force_predictors = [axial_predictor_lasso, radial_predictor_lasso]\n",
    "\n",
    "num_segments = 10\n",
    "P = np.load('actin_12_3.npy')\n",
    "L = num_segments*np.load('z_line_12_3.npy')\n",
    "\n",
    "single_sarc_force = np.load('single_sarc_force_12_3.npy')\n",
    "single_sarc_force_true = np.load('single_sarc_force_true_12_3.npy')"
   ]
  },
  {
   "cell_type": "code",
   "execution_count": null,
   "metadata": {
    "collapsed": true
   },
   "outputs": [],
   "source": [
    "multisarc = multi_sarc(num_segments, trans_prob_predictors_lasso, force_predictors, L, P,\n",
    "                      trans_prob_deg = 3, force_deg = 1, spring_damper = 1e-2)"
   ]
  },
  {
   "cell_type": "code",
   "execution_count": null,
   "metadata": {},
   "outputs": [
    {
     "name": "stdout",
     "output_type": "stream",
     "text": [
      "Timestep 910580860"
     ]
    }
   ],
   "source": [
    "F = multisarc.run_simulation()"
   ]
  },
  {
   "cell_type": "code",
   "execution_count": null,
   "metadata": {},
   "outputs": [],
   "source": [
    "m = len(F)\n",
    "plot(F)\n",
    "# plot(single_sarc_force)"
   ]
  },
  {
   "cell_type": "code",
   "execution_count": null,
   "metadata": {},
   "outputs": [],
   "source": [
    "for j in range(num_segments): plot(multisarc.sections[j].axial_force)\n",
    "\n",
    "figure()\n",
    "for j in range(num_segments): plot(multisarc.sections[j].z_line)\n"
   ]
  },
  {
   "cell_type": "code",
   "execution_count": null,
   "metadata": {},
   "outputs": [],
   "source": [
    "for j in range(num_segments): plot(normalize_array(abs(multisarc.K[j,:])))\n",
    "plot(normalize_array(single_sarc_force))"
   ]
  },
  {
   "cell_type": "code",
   "execution_count": null,
   "metadata": {},
   "outputs": [],
   "source": [
    "blarp = 2\n",
    "for j in range(num_segments): plot(normalize_array(abs(multisarc.sections[j].z_line)))\n",
    "\n",
    "# plot(multisarc.sections[blarp].z_line[575:625])"
   ]
  },
  {
   "cell_type": "code",
   "execution_count": null,
   "metadata": {},
   "outputs": [],
   "source": [
    "plot(multisarc.sections[blarp].axial_force[500:700])"
   ]
  },
  {
   "cell_type": "code",
   "execution_count": null,
   "metadata": {},
   "outputs": [],
   "source": [
    "plot(L - np.sum([sarc.z_line for sarc in multisarc.sections], axis=0))"
   ]
  },
  {
   "cell_type": "code",
   "execution_count": null,
   "metadata": {
    "collapsed": true
   },
   "outputs": [],
   "source": []
  },
  {
   "cell_type": "code",
   "execution_count": null,
   "metadata": {
    "collapsed": true
   },
   "outputs": [],
   "source": []
  }
 ],
 "metadata": {
  "anaconda-cloud": {},
  "kernelspec": {
   "display_name": "Python 3",
   "language": "python",
   "name": "python3"
  },
  "language_info": {
   "codemirror_mode": {
    "name": "ipython",
    "version": 3
   },
   "file_extension": ".py",
   "mimetype": "text/x-python",
   "name": "python",
   "nbconvert_exporter": "python",
   "pygments_lexer": "ipython3",
   "version": "3.6.1"
  }
 },
 "nbformat": 4,
 "nbformat_minor": 1
}
